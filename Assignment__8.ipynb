{
 "cells": [
  {
   "cell_type": "markdown",
   "metadata": {},
   "source": [
    "      Python Assignment No. 8"
   ]
  },
  {
   "cell_type": "code",
   "execution_count": 10,
   "metadata": {},
   "outputs": [
    {
     "name": "stdout",
     "output_type": "stream",
     "text": [
      "5\n",
      "199999\n",
      "Additioni Is :---- 200004\n"
     ]
    }
   ],
   "source": [
    "x= int(input())\n",
    "y=int(input())\n",
    "print(\"Additioni Is :----\",x+y)\n"
   ]
  },
  {
   "cell_type": "code",
   "execution_count": 7,
   "metadata": {},
   "outputs": [
    {
     "name": "stdout",
     "output_type": "stream",
     "text": [
      "5\n",
      "2.23606797749979\n"
     ]
    }
   ],
   "source": [
    "import math\n",
    "x=int(input())\n",
    "print(pow(x,1/2))"
   ]
  },
  {
   "cell_type": "code",
   "execution_count": 11,
   "metadata": {},
   "outputs": [
    {
     "name": "stdout",
     "output_type": "stream",
     "text": [
      "Enter Base of triangle:----5\n",
      "Enter height of triangle:----18\n",
      "area is:- 45.0\n"
     ]
    }
   ],
   "source": [
    "b=int(input(\"Enter Base of triangle:----\"))\n",
    "h=int(input(\"Enter height of triangle:----\"))\n",
    "\n",
    "print(\"area is:-\",0.5*b*h)"
   ]
  },
  {
   "cell_type": "code",
   "execution_count": 1,
   "metadata": {},
   "outputs": [
    {
     "name": "stdout",
     "output_type": "stream",
     "text": [
      "Enter the coefficients of a: 1\n",
      "Enter the coefficients of b: 2\n",
      "Enter the coefficients of c: 3\n",
      "This equation has no real solution\n"
     ]
    }
   ],
   "source": [
    "a = int(input(\"Enter the coefficients of a: \"))\n",
    "b = int(input(\"Enter the coefficients of b: \"))\n",
    "c = int(input(\"Enter the coefficients of c: \"))\n",
    "\n",
    "d = b**2-4*a*c \n",
    "\n",
    "if d < 0:\n",
    "    print (\"This equation has no real solution\")\n",
    "elif d == 0:\n",
    "    x = (-b+math.sqrt(b**2-4*a*c))/2*a\n",
    "    print (\"This equation has one solutions: \"), x\n",
    "else:\n",
    "    x1 = (-b+math.sqrt((b**2)-(4*(a*c))))/(2*a)\n",
    "    x2 = (-b-math.sqrt((b**2)-(4*(a*c))))/(2*a)\n",
    "    print (\"This equation has two solutions: \", x1, \" or\", x2)"
   ]
  },
  {
   "cell_type": "code",
   "execution_count": 4,
   "metadata": {},
   "outputs": [
    {
     "name": "stdout",
     "output_type": "stream",
     "text": [
      "335\n",
      "526\n",
      "value of a,b 335 526\n",
      "value of a,b 526 335\n"
     ]
    }
   ],
   "source": [
    "a=int(input())\n",
    "b=int(input())\n",
    "\n",
    "print(\"value of a,b\",a,b)\n",
    "a=a+b    \n",
    "b=a-b    \n",
    "a=a-b\n",
    "print(\"value of a,b\",a,b)"
   ]
  },
  {
   "cell_type": "code",
   "execution_count": 17,
   "metadata": {},
   "outputs": [
    {
     "name": "stdout",
     "output_type": "stream",
     "text": [
      "a Random Number Generated is :----\n",
      "26\n"
     ]
    }
   ],
   "source": [
    "import random\n",
    "print(\"a Random Number Generated is :----\")\n",
    "print(random.randrange(20,55,3))"
   ]
  },
  {
   "cell_type": "code",
   "execution_count": 21,
   "metadata": {},
   "outputs": [
    {
     "name": "stdout",
     "output_type": "stream",
     "text": [
      "-0\n",
      "n is Zero\n"
     ]
    }
   ],
   "source": [
    "n = int(input())\n",
    "if n==0:\n",
    "    print(\"n is Zero\")\n",
    "elif n>0:\n",
    "    print(\"N is +ive\")\n",
    "else:\n",
    "    print(\"N is -ive\")"
   ]
  },
  {
   "cell_type": "code",
   "execution_count": 28,
   "metadata": {},
   "outputs": [
    {
     "name": "stdout",
     "output_type": "stream",
     "text": [
      "2012\n",
      "it's a leap year 2012\n"
     ]
    }
   ],
   "source": [
    "n=int(input())\n",
    "if n%4==0:\n",
    "    if n%100==0:\n",
    "        if n%400==0:\n",
    "            print(\"It is leap Year\",n)\n",
    "        else:\n",
    "            print(\"Not leap year\")\n",
    "    else:\n",
    "        print(\"it's a leap year\",n)\n",
    "else:\n",
    "    print(\"it's not leap year\")\n"
   ]
  },
  {
   "cell_type": "code",
   "execution_count": 30,
   "metadata": {},
   "outputs": [
    {
     "name": "stdout",
     "output_type": "stream",
     "text": [
      "121\n",
      "0\n",
      "22\n",
      "a is greatest:- 121\n"
     ]
    }
   ],
   "source": [
    "a=int(input())\n",
    "b=int(input())\n",
    "c=int(input())\n",
    "if a>b and a>c:\n",
    "    print(\"a is greatest:-\",a)\n",
    "elif b>c and b>a:\n",
    "    print(\"b is greatest:-\",b)\n",
    "else:\n",
    "    print(\"c is greatest:-\",c)"
   ]
  },
  {
   "cell_type": "code",
   "execution_count": 33,
   "metadata": {},
   "outputs": [
    {
     "name": "stdout",
     "output_type": "stream",
     "text": [
      "11\n",
      "11 is a prime number\n"
     ]
    }
   ],
   "source": [
    "n = int(input())\n",
    "if n>1:\n",
    "    for i in range(2,n):\n",
    "        if(n%i)==0:\n",
    "            print(n,\"is not a Prime Number:--\")\n",
    "            break\n",
    "    else:\n",
    "        print(n,\"is a prime number\")\n",
    "        \n",
    "        \n",
    "else:\n",
    "    print(n,\"is not a prime number\")"
   ]
  },
  {
   "cell_type": "code",
   "execution_count": 36,
   "metadata": {},
   "outputs": [
    {
     "name": "stdout",
     "output_type": "stream",
     "text": [
      "6\n",
      "The Factorial OF  11 is  1\n",
      "The Factorial OF  11 is  2\n",
      "The Factorial OF  11 is  6\n",
      "The Factorial OF  11 is  24\n",
      "The Factorial OF  11 is  120\n",
      "The Factorial OF  11 is  720\n"
     ]
    }
   ],
   "source": [
    "num=int(input())\n",
    "fact=1\n",
    "if n<0:\n",
    "    print(\"Fact Doesn't Exist:--\")\n",
    "elif n==0:\n",
    "    print(\"fact of 0 is 1:-\")\n",
    "else:\n",
    "    for i in range(1,num+1):\n",
    "        fact=fact*i\n",
    "        print(\"The Factorial OF \",n,\"is \",fact)"
   ]
  },
  {
   "cell_type": "code",
   "execution_count": 43,
   "metadata": {},
   "outputs": [
    {
     "name": "stdout",
     "output_type": "stream",
     "text": [
      "10\n",
      "Fibonacci sequence upto 10 :\n",
      "0\n",
      "1\n",
      "1\n",
      "2\n",
      "3\n",
      "5\n",
      "8\n",
      "13\n",
      "21\n",
      "34\n"
     ]
    }
   ],
   "source": [
    "n = int(input())\n",
    "n1 = 0\n",
    "n2 = 1\n",
    "count = 0\n",
    "\n",
    "if n<= 0:\n",
    "   print(\"Enter a positive integer\")\n",
    "\n",
    "else:\n",
    "   print(\"Fibonacci sequence upto\",n,\":\")\n",
    "   while count < n:\n",
    "       print(n1)\n",
    "       nth = n1 + n2\n",
    "       n1 = n2\n",
    "       n2 = nth\n",
    "       count += 1"
   ]
  },
  {
   "cell_type": "code",
   "execution_count": 45,
   "metadata": {},
   "outputs": [
    {
     "name": "stdout",
     "output_type": "stream",
     "text": [
      "Enter a number: 663\n",
      "663 is not an Armstrong number\n"
     ]
    }
   ],
   "source": [
    "num = int(input(\"Enter a number: \"))\n",
    "\n",
    "sum = 0\n",
    "temp = num\n",
    "while temp > 0:\n",
    "   digit = temp % 10\n",
    "   sum += digit ** 3\n",
    "   temp //= 10\n",
    "if num == sum:\n",
    "   print(num,\"is an Armstrong number\")\n",
    "else:\n",
    "   print(num,\"is not an Armstrong number\")"
   ]
  },
  {
   "cell_type": "code",
   "execution_count": 48,
   "metadata": {},
   "outputs": [
    {
     "name": "stdout",
     "output_type": "stream",
     "text": [
      "How many terms? 5\n",
      "2 raised to power 0 is 1\n",
      "2 raised to power 1 is 2\n",
      "2 raised to power 2 is 4\n",
      "2 raised to power 3 is 8\n",
      "2 raised to power 4 is 16\n"
     ]
    }
   ],
   "source": [
    "n = int(input(\"How many terms? \"))\n",
    "result = list(map(lambda x: 2 ** x, range(n)))\n",
    "\n",
    "for i in range(n):\n",
    "   print(\"2 raised to power\",i,\"is\",result[i])"
   ]
  },
  {
   "cell_type": "code",
   "execution_count": 49,
   "metadata": {},
   "outputs": [
    {
     "name": "stdout",
     "output_type": "stream",
     "text": [
      "344\n",
      "The decimal value of 344 is:\n",
      "0b101011000 is binary.\n",
      "0o530 is octal.\n",
      "0x158 is hexadecimal.\n"
     ]
    }
   ],
   "source": [
    "decimal=int(input())\n",
    "\n",
    "print(\"The decimal value of\",decimal,\"is:\")\n",
    "print(bin(decimal),\"is binary.\")\n",
    "print(oct(decimal),\"is octal.\")\n",
    "print(hex(decimal),\"is hexadecimal.\")"
   ]
  },
  {
   "cell_type": "code",
   "execution_count": 3,
   "metadata": {},
   "outputs": [
    {
     "name": "stdout",
     "output_type": "stream",
     "text": [
      "54\n",
      "88\n",
      "smaller 54\n",
      "The H.C.F. of 54 and 88 is 2\n"
     ]
    }
   ],
   "source": [
    "def HCF(x, y):\n",
    "    if x > y:\n",
    "        smaller = y\n",
    "        print(\"smaller\",smaller)\n",
    "    else:\n",
    "        smaller = x\n",
    "        print(\"smaller\",smaller)\n",
    "    for i in range(1, smaller+1):\n",
    "        if((x % i == 0) and (y % i == 0)):\n",
    "            hcf = i\n",
    "            \n",
    "    return hcf\n",
    "num1 = int(input())\n",
    "num2 = int(input())\n",
    "print(\"The H.C.F. of\", num1,\"and\", num2,\"is\", HCF(num1, num2))"
   ]
  },
  {
   "cell_type": "code",
   "execution_count": 6,
   "metadata": {},
   "outputs": [
    {
     "name": "stdout",
     "output_type": "stream",
     "text": [
      "27\n",
      "The Factors OF 27\n",
      "1\n",
      "3\n",
      "9\n",
      "27\n"
     ]
    }
   ],
   "source": [
    "def factor(x):\n",
    "    print(\"The Factors OF\",x)\n",
    "    for i in range(1,x+1):\n",
    "        if x%i==0:\n",
    "            print(i)\n",
    "\n",
    "\n",
    "n=int(input())\n",
    "factor(n)"
   ]
  },
  {
   "cell_type": "code",
   "execution_count": 7,
   "metadata": {},
   "outputs": [
    {
     "name": "stdout",
     "output_type": "stream",
     "text": [
      "Enter year: 2015\n",
      "Enter month: 11\n",
      "   November 2015\n",
      "Mo Tu We Th Fr Sa Su\n",
      "                   1\n",
      " 2  3  4  5  6  7  8\n",
      " 9 10 11 12 13 14 15\n",
      "16 17 18 19 20 21 22\n",
      "23 24 25 26 27 28 29\n",
      "30\n",
      "\n"
     ]
    }
   ],
   "source": [
    "import calendar\n",
    "yy = int(input(\"Enter year: \"))\n",
    "mm = int(input(\"Enter month: \"))\n",
    "print(calendar.month(yy, mm))"
   ]
  },
  {
   "cell_type": "code",
   "execution_count": 12,
   "metadata": {},
   "outputs": [
    {
     "name": "stdout",
     "output_type": "stream",
     "text": [
      "[2, 4, 6]\n",
      "[8, 10, 8]\n",
      "[4, 4, 7]\n"
     ]
    }
   ],
   "source": [
    "matrix1=[[1,2,3],\n",
    "        [4,5,6],\n",
    "        [2,3,4]]\n",
    "matrix2=[[1,2,3],\n",
    "        [4,5,2],\n",
    "        [2,1,3]]\n",
    "sum=[[0,0,0],\n",
    "  [0,0,0],\n",
    "  [0,0,0]]\n",
    "\n",
    "\n",
    "for i in range(len(matrix1)):\n",
    "   \n",
    "   for j in range(len(matrix1[0])):\n",
    "       sum[i][j] = matrix1[i][j] + matrix2[i][j]\n",
    "\n",
    "for r in sum:\n",
    "   print(r)"
   ]
  },
  {
   "cell_type": "code",
   "execution_count": 14,
   "metadata": {},
   "outputs": [
    {
     "name": "stdout",
     "output_type": "stream",
     "text": [
      "[12, 4, 3]\n",
      "[7, 5, 8]\n"
     ]
    }
   ],
   "source": [
    "X = [[12,7],\n",
    "    [4 ,5],\n",
    "    [3 ,8]]\n",
    "\n",
    "transpose = [[0,0,0],\n",
    "         [0,0,0]]\n",
    "\n",
    "for i in range(len(X)):\n",
    "     for j in range(len(X[0])):\n",
    "       transpose[j][i] = X[i][j]\n",
    "\n",
    "for r in transpose:\n",
    "   print(r)"
   ]
  },
  {
   "cell_type": "code",
   "execution_count": 19,
   "metadata": {},
   "outputs": [
    {
     "name": "stdout",
     "output_type": "stream",
     "text": [
      "Saas\n",
      "It is not palindrome\n"
     ]
    }
   ],
   "source": [
    "str1 = str(input())\n",
    "reverse = reversed(str1)\n",
    "if list(str1) == list(reverse):\n",
    "   print(\"It is palindrome\")\n",
    "else:\n",
    "   print(\"It is not palindrome\")"
   ]
  },
  {
   "cell_type": "code",
   "execution_count": null,
   "metadata": {},
   "outputs": [],
   "source": []
  },
  {
   "cell_type": "code",
   "execution_count": null,
   "metadata": {},
   "outputs": [],
   "source": []
  }
 ],
 "metadata": {
  "kernelspec": {
   "display_name": "Python 3",
   "language": "python",
   "name": "python3"
  },
  "language_info": {
   "codemirror_mode": {
    "name": "ipython",
    "version": 3
   },
   "file_extension": ".py",
   "mimetype": "text/x-python",
   "name": "python",
   "nbconvert_exporter": "python",
   "pygments_lexer": "ipython3",
   "version": "3.7.3"
  }
 },
 "nbformat": 4,
 "nbformat_minor": 2
}
